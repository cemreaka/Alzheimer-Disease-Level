{
 "cells": [
  {
   "cell_type": "code",
   "execution_count": 1,
   "metadata": {},
   "outputs": [],
   "source": [
    "import tensorflow as tf\n",
    "import numpy as np\n",
    "import pandas as pd\n",
    "from sklearn import preprocessing\n",
    "import seaborn as sns\n",
    "# import matplotlib.pyplot as plt"
   ]
  },
  {
   "cell_type": "code",
   "execution_count": 2,
   "metadata": {},
   "outputs": [],
   "source": [
    "from sklearn.model_selection import cross_val_score\n",
    "from sklearn.metrics import classification_report, confusion_matrix"
   ]
  },
  {
   "cell_type": "code",
   "execution_count": 3,
   "metadata": {},
   "outputs": [
    {
     "name": "stdout",
     "output_type": "stream",
     "text": [
      "Default GPU Device:/device:GPU:0\n",
      "Metal device set to: Apple M1 Pro\n",
      "\n",
      "systemMemory: 16.00 GB\n",
      "maxCacheSize: 5.33 GB\n",
      "\n"
     ]
    },
    {
     "name": "stderr",
     "output_type": "stream",
     "text": [
      "2022-09-12 14:28:10.003742: I tensorflow/core/common_runtime/pluggable_device/pluggable_device_factory.cc:305] Could not identify NUMA node of platform GPU ID 0, defaulting to 0. Your kernel may not have been built with NUMA support.\n",
      "2022-09-12 14:28:10.003880: I tensorflow/core/common_runtime/pluggable_device/pluggable_device_factory.cc:271] Created TensorFlow device (/device:GPU:0 with 0 MB memory) -> physical PluggableDevice (device: 0, name: METAL, pci bus id: <undefined>)\n",
      "2022-09-12 14:28:10.004763: I tensorflow/core/common_runtime/pluggable_device/pluggable_device_factory.cc:305] Could not identify NUMA node of platform GPU ID 0, defaulting to 0. Your kernel may not have been built with NUMA support.\n",
      "2022-09-12 14:28:10.004771: I tensorflow/core/common_runtime/pluggable_device/pluggable_device_factory.cc:271] Created TensorFlow device (/device:GPU:0 with 0 MB memory) -> physical PluggableDevice (device: 0, name: METAL, pci bus id: <undefined>)\n"
     ]
    }
   ],
   "source": [
    "if tf.test.gpu_device_name():\n",
    "    print('Default GPU Device:{}'.format(tf.test.gpu_device_name()))\n",
    "else:\n",
    "    print(\"Please install GPU version of TF\")"
   ]
  },
  {
   "cell_type": "code",
   "execution_count": 4,
   "metadata": {},
   "outputs": [],
   "source": [
    "data = pd.read_csv(\"DataWith_MOCA_August20_OneHotEncoded_for_categorical.csv\", low_memory = False) "
   ]
  },
  {
   "cell_type": "code",
   "execution_count": 5,
   "metadata": {},
   "outputs": [
    {
     "name": "stdout",
     "output_type": "stream",
     "text": [
      "<class 'pandas.core.frame.DataFrame'>\n",
      "RangeIndex: 9180 entries, 0 to 9179\n",
      "Columns: 1953 entries, Unnamed: 0.2 to RESIDENC_4\n",
      "dtypes: float64(984), int64(793), object(176)\n",
      "memory usage: 136.8+ MB\n"
     ]
    }
   ],
   "source": [
    "data.info()"
   ]
  },
  {
   "cell_type": "code",
   "execution_count": 6,
   "metadata": {},
   "outputs": [
    {
     "name": "stdout",
     "output_type": "stream",
     "text": [
      "<class 'pandas.core.frame.DataFrame'>\n",
      "RangeIndex: 9180 entries, 0 to 9179\n",
      "Data columns (total 38 columns):\n",
      " #   Column      Non-Null Count  Dtype  \n",
      "---  ------      --------------  -----  \n",
      " 0   EDUC        9180 non-null   int64  \n",
      " 1   NACCMOCA    9180 non-null   int64  \n",
      " 2   MARISTAT_1  9180 non-null   int64  \n",
      " 3   MARISTAT_3  9180 non-null   int64  \n",
      " 4   MARISTAT_4  9180 non-null   int64  \n",
      " 5   MARISTAT_5  9180 non-null   int64  \n",
      " 6   MARISTAT_6  9180 non-null   int64  \n",
      " 7   MARISTAT_2  9180 non-null   int64  \n",
      " 8   NACCFAM     9180 non-null   int64  \n",
      " 9   NACCGDS     9180 non-null   int64  \n",
      " 10  NACCNE4S    9180 non-null   int64  \n",
      " 11  NACCAPOE    9180 non-null   int64  \n",
      " 12  INDEPEND_1  9180 non-null   int64  \n",
      " 13  INDEPEND_3  9180 non-null   int64  \n",
      " 14  INDEPEND_4  9180 non-null   int64  \n",
      " 15  INDEPEND_2  9180 non-null   int64  \n",
      " 16  RESIDENC_1  9180 non-null   int64  \n",
      " 17  RESIDENC_3  9180 non-null   int64  \n",
      " 18  RESIDENC_4  9180 non-null   int64  \n",
      " 19  RESIDENC_2  9180 non-null   int64  \n",
      " 20  ANYMEDS     9180 non-null   int64  \n",
      " 21  NACCAMD     9180 non-null   int64  \n",
      " 22  DEL         9180 non-null   int64  \n",
      " 23  HALL        9180 non-null   int64  \n",
      " 24  DEPD        9180 non-null   int64  \n",
      " 25  ANX         9180 non-null   int64  \n",
      " 26  APA         9180 non-null   int64  \n",
      " 27  DISN        9180 non-null   int64  \n",
      " 28  IRR         9180 non-null   int64  \n",
      " 29  MOT         9180 non-null   int64  \n",
      " 30  AGIT        9180 non-null   int64  \n",
      " 31  ELAT        9180 non-null   int64  \n",
      " 32  NITE        9180 non-null   int64  \n",
      " 33  APP         9180 non-null   int64  \n",
      " 34  DROPACT     9180 non-null   int64  \n",
      " 35  NACCAGEB    9180 non-null   int64  \n",
      " 36  SEX         9180 non-null   int64  \n",
      " 37  CDRGLOB     9180 non-null   float64\n",
      "dtypes: float64(1), int64(37)\n",
      "memory usage: 2.7 MB\n"
     ]
    }
   ],
   "source": [
    "df = data[['EDUC','NACCMOCA','MARISTAT_1', 'MARISTAT_3','MARISTAT_4', 'MARISTAT_5','MARISTAT_6', 'MARISTAT_2','NACCFAM','NACCGDS','NACCNE4S','NACCAPOE', 'INDEPEND_1', 'INDEPEND_3','INDEPEND_4', 'INDEPEND_2','RESIDENC_1', 'RESIDENC_3','RESIDENC_4', 'RESIDENC_2','ANYMEDS','NACCAMD','DEL','HALL','DEPD','ANX','APA','DISN', 'IRR','MOT','AGIT','ELAT','NITE','APP','DROPACT','NACCAGEB','SEX', 'CDRGLOB']]\n",
    "df.info()"
   ]
  },
  {
   "cell_type": "code",
   "execution_count": 7,
   "metadata": {},
   "outputs": [],
   "source": [
    "# df['MARISTAT_1_0_MARISTAT_2_1'] = np.where((df['MARISTAT_1']==0)&(df['MARISTAT_2']==1), 1, 0)\n",
    "# df['MARISTAT_3_0_MARISTAT_4_1'] = np.where((df['MARISTAT_3']==0)&(df['MARISTAT_4']==1), 1, 0)\n",
    "# df['MARISTAT_5_0_MARISTAT_6_1'] = np.where((df['MARISTAT_5']==0)&(df['MARISTAT_6']==1), 1, 0)\n",
    "\n",
    "# df['INDEPEND_1_0_INDEPEND_2_1'] = np.where((df['INDEPEND_1']==0)&(df['INDEPEND_2']==1), 1, 0)\n",
    "# df['INDEPEND_3_0_INDEPEND_4_1'] = np.where((df['INDEPEND_3']==0)&(df['INDEPEND_4']==1), 1, 0)\n",
    "\n",
    "# df['RESIDENC_1_0_RESIDENC_2_1'] = np.where((df['RESIDENC_1']==0)&(df['RESIDENC_2']==1), 1, 0)\n",
    "# df['RESIDENC_3_0_RESIDENC_4_1'] = np.where((df['RESIDENC_3']==0)&(df['RESIDENC_4']==1), 1, 0)\n",
    "\n",
    "# df = df.drop(columns=['MARISTAT_1', 'MARISTAT_2','MARISTAT_3', 'MARISTAT_4','MARISTAT_5', 'MARISTAT_6'])\n",
    "# df = df.drop(columns=['RESIDENC_1', 'RESIDENC_2','RESIDENC_3', 'RESIDENC_4'])\n",
    "# df = df.drop(columns=['INDEPEND_1', 'INDEPEND_2','INDEPEND_3', 'INDEPEND_4',])\n",
    "# df.info()"
   ]
  },
  {
   "cell_type": "code",
   "execution_count": 8,
   "metadata": {},
   "outputs": [
    {
     "data": {
      "text/plain": [
       "<seaborn.axisgrid.FacetGrid at 0x1108635b0>"
      ]
     },
     "execution_count": 8,
     "metadata": {},
     "output_type": "execute_result"
    },
    {
     "data": {
      "image/png": "[encoded data removed]",
      "text/plain": [
       "<Figure size 720x360 with 1 Axes>"
      ]
     },
     "metadata": {
      "needs_background": "light"
     },
     "output_type": "display_data"
    }
   ],
   "source": [
    "sns.catplot(data = df, x = 'CDRGLOB', kind = 'count', aspect=2)"
   ]
  },
  {
   "cell_type": "code",
   "execution_count": 9,
   "metadata": {},
   "outputs": [],
   "source": [
    "def normalize(df):\n",
    "    result = df.copy()\n",
    "    for feature_name in df.columns:\n",
    "        max_value = df[feature_name].max()\n",
    "        min_value = df[feature_name].min()\n",
    "        result[feature_name] = (df[feature_name] - min_value) / (max_value - min_value)\n",
    "    return result\n",
    "\n",
    "df = normalize(df)"
   ]
  },
  {
   "cell_type": "code",
   "execution_count": 10,
   "metadata": {},
   "outputs": [
    {
     "data": {
      "text/plain": [
       "0"
      ]
     },
     "execution_count": 10,
     "metadata": {},
     "output_type": "execute_result"
    }
   ],
   "source": [
    "df.isna().any().sum()"
   ]
  },
  {
   "cell_type": "code",
   "execution_count": 11,
   "metadata": {},
   "outputs": [
    {
     "data": {
      "text/plain": [
       "6"
      ]
     },
     "execution_count": 11,
     "metadata": {},
     "output_type": "execute_result"
    }
   ],
   "source": [
    "df.duplicated().sum()"
   ]
  },
  {
   "cell_type": "code",
   "execution_count": 12,
   "metadata": {},
   "outputs": [
    {
     "name": "stdout",
     "output_type": "stream",
     "text": [
      "<class 'pandas.core.frame.DataFrame'>\n",
      "Int64Index: 9174 entries, 0 to 9179\n",
      "Data columns (total 38 columns):\n",
      " #   Column      Non-Null Count  Dtype  \n",
      "---  ------      --------------  -----  \n",
      " 0   EDUC        9174 non-null   float64\n",
      " 1   NACCMOCA    9174 non-null   float64\n",
      " 2   MARISTAT_1  9174 non-null   float64\n",
      " 3   MARISTAT_3  9174 non-null   float64\n",
      " 4   MARISTAT_4  9174 non-null   float64\n",
      " 5   MARISTAT_5  9174 non-null   float64\n",
      " 6   MARISTAT_6  9174 non-null   float64\n",
      " 7   MARISTAT_2  9174 non-null   float64\n",
      " 8   NACCFAM     9174 non-null   float64\n",
      " 9   NACCGDS     9174 non-null   float64\n",
      " 10  NACCNE4S    9174 non-null   float64\n",
      " 11  NACCAPOE    9174 non-null   float64\n",
      " 12  INDEPEND_1  9174 non-null   float64\n",
      " 13  INDEPEND_3  9174 non-null   float64\n",
      " 14  INDEPEND_4  9174 non-null   float64\n",
      " 15  INDEPEND_2  9174 non-null   float64\n",
      " 16  RESIDENC_1  9174 non-null   float64\n",
      " 17  RESIDENC_3  9174 non-null   float64\n",
      " 18  RESIDENC_4  9174 non-null   float64\n",
      " 19  RESIDENC_2  9174 non-null   float64\n",
      " 20  ANYMEDS     9174 non-null   float64\n",
      " 21  NACCAMD     9174 non-null   float64\n",
      " 22  DEL         9174 non-null   float64\n",
      " 23  HALL        9174 non-null   float64\n",
      " 24  DEPD        9174 non-null   float64\n",
      " 25  ANX         9174 non-null   float64\n",
      " 26  APA         9174 non-null   float64\n",
      " 27  DISN        9174 non-null   float64\n",
      " 28  IRR         9174 non-null   float64\n",
      " 29  MOT         9174 non-null   float64\n",
      " 30  AGIT        9174 non-null   float64\n",
      " 31  ELAT        9174 non-null   float64\n",
      " 32  NITE        9174 non-null   float64\n",
      " 33  APP         9174 non-null   float64\n",
      " 34  DROPACT     9174 non-null   float64\n",
      " 35  NACCAGEB    9174 non-null   float64\n",
      " 36  SEX         9174 non-null   float64\n",
      " 37  CDRGLOB     9174 non-null   float64\n",
      "dtypes: float64(38)\n",
      "memory usage: 2.7 MB\n"
     ]
    }
   ],
   "source": [
    "df = df.drop_duplicates()\n",
    "df.info()"
   ]
  },
  {
   "cell_type": "code",
   "execution_count": 13,
   "metadata": {},
   "outputs": [
    {
     "data": {
      "text/plain": [
       "EDUC          0\n",
       "NACCMOCA      0\n",
       "MARISTAT_1    0\n",
       "MARISTAT_3    0\n",
       "MARISTAT_4    0\n",
       "MARISTAT_5    0\n",
       "MARISTAT_6    0\n",
       "MARISTAT_2    0\n",
       "NACCFAM       0\n",
       "NACCGDS       0\n",
       "NACCNE4S      0\n",
       "NACCAPOE      0\n",
       "INDEPEND_1    0\n",
       "INDEPEND_3    0\n",
       "INDEPEND_4    0\n",
       "INDEPEND_2    0\n",
       "RESIDENC_1    0\n",
       "RESIDENC_3    0\n",
       "RESIDENC_4    0\n",
       "RESIDENC_2    0\n",
       "ANYMEDS       0\n",
       "NACCAMD       0\n",
       "DEL           0\n",
       "HALL          0\n",
       "DEPD          0\n",
       "ANX           0\n",
       "APA           0\n",
       "DISN          0\n",
       "IRR           0\n",
       "MOT           0\n",
       "AGIT          0\n",
       "ELAT          0\n",
       "NITE          0\n",
       "APP           0\n",
       "DROPACT       0\n",
       "NACCAGEB      0\n",
       "SEX           0\n",
       "CDRGLOB       0\n",
       "dtype: int64"
      ]
     },
     "execution_count": 13,
     "metadata": {},
     "output_type": "execute_result"
    }
   ],
   "source": [
    "df.isnull().sum()"
   ]
  },
  {
   "cell_type": "code",
   "execution_count": 14,
   "metadata": {},
   "outputs": [
    {
     "name": "stdout",
     "output_type": "stream",
     "text": [
      "[0.43333333 0.53333333 0.33333333 0.66666667 0.56666667 0.6\n",
      " 0.8        0.1        0.5        0.46666667 0.63333333 0.36666667\n",
      " 0.4        0.83333333 0.86666667 0.2        1.         0.7\n",
      " 0.73333333 0.3        0.76666667 0.26666667 0.16666667 0.13333333\n",
      " 0.23333333 0.06666667 0.03333333 0.         0.96666667]\n",
      "[0.7        0.83333333 0.43333333 0.96666667 0.86666667 0.16666667\n",
      " 0.3        0.93333333 0.63333333 0.9        0.76666667 0.8\n",
      " 0.26666667 0.46666667 0.66666667 0.56666667 0.4        0.53333333\n",
      " 0.5        1.         0.13333333 0.6        0.73333333 0.23333333\n",
      " 0.33333333 0.36666667 0.03333333 0.2        0.1        0.06666667\n",
      " 0.        ]\n",
      "[1. 0.]\n",
      "[0. 1.]\n",
      "[0. 1.]\n",
      "[0. 1.]\n",
      "[0. 1.]\n",
      "[0. 1.]\n",
      "[0. 1.]\n",
      "[0.         0.26666667 0.53333333 0.2        0.46666667 0.06666667\n",
      " 0.13333333 0.33333333 0.93333333 0.6        0.66666667 0.8\n",
      " 0.4        0.73333333 0.86666667 1.        ]\n",
      "[0.  1.  0.5]\n",
      "[0.  0.4 0.6 0.2 0.8 1. ]\n",
      "[0. 1.]\n",
      "[0. 1.]\n",
      "[0. 1.]\n",
      "[1. 0.]\n",
      "[1. 0.]\n",
      "[0. 1.]\n",
      "[0. 1.]\n",
      "[0. 1.]\n",
      "[1. 0.]\n",
      "[0.16666667 0.06666667 0.23333333 0.43333333 0.4        0.13333333\n",
      " 0.1        0.26666667 0.36666667 0.33333333 0.2        0.3\n",
      " 0.         0.46666667 0.03333333 0.53333333 0.63333333 0.7\n",
      " 0.56666667 0.5        0.66666667 0.6        0.83333333 0.8\n",
      " 0.9        0.73333333 0.76666667 0.86666667 1.         0.93333333]\n",
      "[0. 1.]\n",
      "[1. 0.]\n",
      "[0. 1.]\n",
      "[0. 1.]\n",
      "[1. 0.]\n",
      "[1. 0.]\n",
      "[1. 0.]\n",
      "[0. 1.]\n",
      "[1. 0.]\n",
      "[0. 1.]\n",
      "[0. 1.]\n",
      "[1. 0.]\n",
      "[0. 1.]\n",
      "[0.21052632 0.         0.34210526 0.28947368 0.07894737 0.10526316\n",
      " 0.13157895 0.05263158 0.15789474 0.31578947 0.26315789 0.44736842\n",
      " 0.42105263 0.57894737 0.23684211 0.02631579 0.47368421 0.18421053\n",
      " 0.39473684 0.36842105 0.73684211 0.52631579 0.55263158 0.5\n",
      " 0.60526316 0.78947368 0.63157895 0.71052632 0.68421053 0.89473684\n",
      " 0.65789474 1.         0.81578947 0.76315789 0.86842105 0.94736842\n",
      " 0.84210526]\n",
      "[0. 1.]\n",
      "[0.5  0.25 0.   1.  ]\n"
     ]
    }
   ],
   "source": [
    "for col in df:\n",
    "  print(df[col].unique())"
   ]
  },
  {
   "cell_type": "code",
   "execution_count": 15,
   "metadata": {},
   "outputs": [],
   "source": [
    "def drop_outliers_IQR(df, column):\n",
    "   q1=(df[column].quantile(0.25))\n",
    "   q3=(df[column].quantile(0.75))\n",
    "   IQR=q3-q1\n",
    "   df_filtered = df[np.logical_and(((df[column]>=(q1-1.5*IQR))),((df[column]<=(q3+1.5*IQR))))]\n",
    "   df_filtered = df_filtered.dropna().reset_index(drop=True)\n",
    "   return df_filtered"
   ]
  },
  {
   "cell_type": "code",
   "execution_count": 16,
   "metadata": {},
   "outputs": [
    {
     "name": "stdout",
     "output_type": "stream",
     "text": [
      "<class 'pandas.core.frame.DataFrame'>\n",
      "RangeIndex: 8254 entries, 0 to 8253\n",
      "Data columns (total 38 columns):\n",
      " #   Column      Non-Null Count  Dtype  \n",
      "---  ------      --------------  -----  \n",
      " 0   EDUC        8254 non-null   float64\n",
      " 1   NACCMOCA    8254 non-null   float64\n",
      " 2   MARISTAT_1  8254 non-null   float64\n",
      " 3   MARISTAT_3  8254 non-null   float64\n",
      " 4   MARISTAT_4  8254 non-null   float64\n",
      " 5   MARISTAT_5  8254 non-null   float64\n",
      " 6   MARISTAT_6  8254 non-null   float64\n",
      " 7   MARISTAT_2  8254 non-null   float64\n",
      " 8   NACCFAM     8254 non-null   float64\n",
      " 9   NACCGDS     8254 non-null   float64\n",
      " 10  NACCNE4S    8254 non-null   float64\n",
      " 11  NACCAPOE    8254 non-null   float64\n",
      " 12  INDEPEND_1  8254 non-null   float64\n",
      " 13  INDEPEND_3  8254 non-null   float64\n",
      " 14  INDEPEND_4  8254 non-null   float64\n",
      " 15  INDEPEND_2  8254 non-null   float64\n",
      " 16  RESIDENC_1  8254 non-null   float64\n",
      " 17  RESIDENC_3  8254 non-null   float64\n",
      " 18  RESIDENC_4  8254 non-null   float64\n",
      " 19  RESIDENC_2  8254 non-null   float64\n",
      " 20  ANYMEDS     8254 non-null   float64\n",
      " 21  NACCAMD     8254 non-null   float64\n",
      " 22  DEL         8254 non-null   float64\n",
      " 23  HALL        8254 non-null   float64\n",
      " 24  DEPD        8254 non-null   float64\n",
      " 25  ANX         8254 non-null   float64\n",
      " 26  APA         8254 non-null   float64\n",
      " 27  DISN        8254 non-null   float64\n",
      " 28  IRR         8254 non-null   float64\n",
      " 29  MOT         8254 non-null   float64\n",
      " 30  AGIT        8254 non-null   float64\n",
      " 31  ELAT        8254 non-null   float64\n",
      " 32  NITE        8254 non-null   float64\n",
      " 33  APP         8254 non-null   float64\n",
      " 34  DROPACT     8254 non-null   float64\n",
      " 35  NACCAGEB    8254 non-null   float64\n",
      " 36  SEX         8254 non-null   float64\n",
      " 37  CDRGLOB     8254 non-null   float64\n",
      "dtypes: float64(38)\n",
      "memory usage: 2.4 MB\n"
     ]
    }
   ],
   "source": [
    "columns = [\"EDUC\", \"NACCMOCA\", \"NACCGDS\", \"NACCNE4S\", \"NACCAMD\", \"NACCAGEB\"]\n",
    "for i in columns:\n",
    "    df = drop_outliers_IQR(df, i)\n",
    "    df[i].unique()\n",
    "df.info()"
   ]
  },
  {
   "cell_type": "code",
   "execution_count": 17,
   "metadata": {},
   "outputs": [
    {
     "data": {
      "text/html": [
       "<div>\n",
       "<style scoped>\n",
       "    .dataframe tbody tr th:only-of-type {\n",
       "        vertical-align: middle;\n",
       "    }\n",
       "\n",
       "    .dataframe tbody tr th {\n",
       "        vertical-align: top;\n",
       "    }\n",
       "\n",
       "    .dataframe thead th {\n",
       "        text-align: right;\n",
       "    }\n",
       "</style>\n",
       "<table border=\"1\" class=\"dataframe\">\n",
       "  <thead>\n",
       "    <tr style=\"text-align: right;\">\n",
       "      <th></th>\n",
       "      <th>EDUC</th>\n",
       "      <th>NACCMOCA</th>\n",
       "      <th>MARISTAT_1</th>\n",
       "      <th>MARISTAT_3</th>\n",
       "      <th>MARISTAT_4</th>\n",
       "      <th>MARISTAT_5</th>\n",
       "      <th>MARISTAT_6</th>\n",
       "      <th>MARISTAT_2</th>\n",
       "      <th>NACCFAM</th>\n",
       "      <th>NACCGDS</th>\n",
       "      <th>...</th>\n",
       "      <th>IRR</th>\n",
       "      <th>MOT</th>\n",
       "      <th>AGIT</th>\n",
       "      <th>ELAT</th>\n",
       "      <th>NITE</th>\n",
       "      <th>APP</th>\n",
       "      <th>DROPACT</th>\n",
       "      <th>NACCAGEB</th>\n",
       "      <th>SEX</th>\n",
       "      <th>CDRGLOB</th>\n",
       "    </tr>\n",
       "  </thead>\n",
       "  <tbody>\n",
       "    <tr>\n",
       "      <th>0</th>\n",
       "      <td>0.433333</td>\n",
       "      <td>0.700000</td>\n",
       "      <td>1.0</td>\n",
       "      <td>0.0</td>\n",
       "      <td>0.0</td>\n",
       "      <td>0.0</td>\n",
       "      <td>0.0</td>\n",
       "      <td>0.0</td>\n",
       "      <td>0.0</td>\n",
       "      <td>0.000000</td>\n",
       "      <td>...</td>\n",
       "      <td>1.0</td>\n",
       "      <td>0.0</td>\n",
       "      <td>1.0</td>\n",
       "      <td>0.0</td>\n",
       "      <td>0.0</td>\n",
       "      <td>1.0</td>\n",
       "      <td>0.0</td>\n",
       "      <td>0.210526</td>\n",
       "      <td>0.0</td>\n",
       "      <td>0.50</td>\n",
       "    </tr>\n",
       "    <tr>\n",
       "      <th>1</th>\n",
       "      <td>0.533333</td>\n",
       "      <td>0.833333</td>\n",
       "      <td>1.0</td>\n",
       "      <td>0.0</td>\n",
       "      <td>0.0</td>\n",
       "      <td>0.0</td>\n",
       "      <td>0.0</td>\n",
       "      <td>0.0</td>\n",
       "      <td>1.0</td>\n",
       "      <td>0.266667</td>\n",
       "      <td>...</td>\n",
       "      <td>0.0</td>\n",
       "      <td>0.0</td>\n",
       "      <td>0.0</td>\n",
       "      <td>0.0</td>\n",
       "      <td>0.0</td>\n",
       "      <td>0.0</td>\n",
       "      <td>1.0</td>\n",
       "      <td>0.000000</td>\n",
       "      <td>0.0</td>\n",
       "      <td>0.25</td>\n",
       "    </tr>\n",
       "    <tr>\n",
       "      <th>2</th>\n",
       "      <td>0.666667</td>\n",
       "      <td>0.966667</td>\n",
       "      <td>0.0</td>\n",
       "      <td>0.0</td>\n",
       "      <td>0.0</td>\n",
       "      <td>0.0</td>\n",
       "      <td>0.0</td>\n",
       "      <td>1.0</td>\n",
       "      <td>1.0</td>\n",
       "      <td>0.200000</td>\n",
       "      <td>...</td>\n",
       "      <td>0.0</td>\n",
       "      <td>0.0</td>\n",
       "      <td>0.0</td>\n",
       "      <td>0.0</td>\n",
       "      <td>1.0</td>\n",
       "      <td>0.0</td>\n",
       "      <td>1.0</td>\n",
       "      <td>0.342105</td>\n",
       "      <td>0.0</td>\n",
       "      <td>0.00</td>\n",
       "    </tr>\n",
       "    <tr>\n",
       "      <th>3</th>\n",
       "      <td>0.566667</td>\n",
       "      <td>0.866667</td>\n",
       "      <td>1.0</td>\n",
       "      <td>0.0</td>\n",
       "      <td>0.0</td>\n",
       "      <td>0.0</td>\n",
       "      <td>0.0</td>\n",
       "      <td>0.0</td>\n",
       "      <td>1.0</td>\n",
       "      <td>0.000000</td>\n",
       "      <td>...</td>\n",
       "      <td>1.0</td>\n",
       "      <td>0.0</td>\n",
       "      <td>0.0</td>\n",
       "      <td>0.0</td>\n",
       "      <td>1.0</td>\n",
       "      <td>0.0</td>\n",
       "      <td>0.0</td>\n",
       "      <td>0.289474</td>\n",
       "      <td>0.0</td>\n",
       "      <td>0.25</td>\n",
       "    </tr>\n",
       "    <tr>\n",
       "      <th>4</th>\n",
       "      <td>0.666667</td>\n",
       "      <td>0.300000</td>\n",
       "      <td>1.0</td>\n",
       "      <td>0.0</td>\n",
       "      <td>0.0</td>\n",
       "      <td>0.0</td>\n",
       "      <td>0.0</td>\n",
       "      <td>0.0</td>\n",
       "      <td>1.0</td>\n",
       "      <td>0.066667</td>\n",
       "      <td>...</td>\n",
       "      <td>1.0</td>\n",
       "      <td>0.0</td>\n",
       "      <td>1.0</td>\n",
       "      <td>0.0</td>\n",
       "      <td>1.0</td>\n",
       "      <td>1.0</td>\n",
       "      <td>0.0</td>\n",
       "      <td>0.289474</td>\n",
       "      <td>1.0</td>\n",
       "      <td>0.50</td>\n",
       "    </tr>\n",
       "  </tbody>\n",
       "</table>\n",
       "<p>5 rows × 38 columns</p>\n",
       "</div>"
      ],
      "text/plain": [
       "       EDUC  NACCMOCA  MARISTAT_1  MARISTAT_3  MARISTAT_4  MARISTAT_5  \\\n",
       "0  0.433333  0.700000         1.0         0.0         0.0         0.0   \n",
       "1  0.533333  0.833333         1.0         0.0         0.0         0.0   \n",
       "2  0.666667  0.966667         0.0         0.0         0.0         0.0   \n",
       "3  0.566667  0.866667         1.0         0.0         0.0         0.0   \n",
       "4  0.666667  0.300000         1.0         0.0         0.0         0.0   \n",
       "\n",
       "   MARISTAT_6  MARISTAT_2  NACCFAM   NACCGDS  ...  IRR  MOT  AGIT  ELAT  NITE  \\\n",
       "0         0.0         0.0      0.0  0.000000  ...  1.0  0.0   1.0   0.0   0.0   \n",
       "1         0.0         0.0      1.0  0.266667  ...  0.0  0.0   0.0   0.0   0.0   \n",
       "2         0.0         1.0      1.0  0.200000  ...  0.0  0.0   0.0   0.0   1.0   \n",
       "3         0.0         0.0      1.0  0.000000  ...  1.0  0.0   0.0   0.0   1.0   \n",
       "4         0.0         0.0      1.0  0.066667  ...  1.0  0.0   1.0   0.0   1.0   \n",
       "\n",
       "   APP  DROPACT  NACCAGEB  SEX  CDRGLOB  \n",
       "0  1.0      0.0  0.210526  0.0     0.50  \n",
       "1  0.0      1.0  0.000000  0.0     0.25  \n",
       "2  0.0      1.0  0.342105  0.0     0.00  \n",
       "3  0.0      0.0  0.289474  0.0     0.25  \n",
       "4  1.0      0.0  0.289474  1.0     0.50  \n",
       "\n",
       "[5 rows x 38 columns]"
      ]
     },
     "execution_count": 17,
     "metadata": {},
     "output_type": "execute_result"
    }
   ],
   "source": [
    "df.head()"
   ]
  },
  {
   "cell_type": "code",
   "execution_count": 18,
   "metadata": {},
   "outputs": [
    {
     "name": "stdout",
     "output_type": "stream",
     "text": [
      "<class 'pandas.core.frame.DataFrame'>\n",
      "Int64Index: 4266 entries, 2 to 8253\n",
      "Data columns (total 38 columns):\n",
      " #   Column      Non-Null Count  Dtype  \n",
      "---  ------      --------------  -----  \n",
      " 0   EDUC        4266 non-null   float64\n",
      " 1   NACCMOCA    4266 non-null   float64\n",
      " 2   MARISTAT_1  4266 non-null   float64\n",
      " 3   MARISTAT_3  4266 non-null   float64\n",
      " 4   MARISTAT_4  4266 non-null   float64\n",
      " 5   MARISTAT_5  4266 non-null   float64\n",
      " 6   MARISTAT_6  4266 non-null   float64\n",
      " 7   MARISTAT_2  4266 non-null   float64\n",
      " 8   NACCFAM     4266 non-null   float64\n",
      " 9   NACCGDS     4266 non-null   float64\n",
      " 10  NACCNE4S    4266 non-null   float64\n",
      " 11  NACCAPOE    4266 non-null   float64\n",
      " 12  INDEPEND_1  4266 non-null   float64\n",
      " 13  INDEPEND_3  4266 non-null   float64\n",
      " 14  INDEPEND_4  4266 non-null   float64\n",
      " 15  INDEPEND_2  4266 non-null   float64\n",
      " 16  RESIDENC_1  4266 non-null   float64\n",
      " 17  RESIDENC_3  4266 non-null   float64\n",
      " 18  RESIDENC_4  4266 non-null   float64\n",
      " 19  RESIDENC_2  4266 non-null   float64\n",
      " 20  ANYMEDS     4266 non-null   float64\n",
      " 21  NACCAMD     4266 non-null   float64\n",
      " 22  DEL         4266 non-null   float64\n",
      " 23  HALL        4266 non-null   float64\n",
      " 24  DEPD        4266 non-null   float64\n",
      " 25  ANX         4266 non-null   float64\n",
      " 26  APA         4266 non-null   float64\n",
      " 27  DISN        4266 non-null   float64\n",
      " 28  IRR         4266 non-null   float64\n",
      " 29  MOT         4266 non-null   float64\n",
      " 30  AGIT        4266 non-null   float64\n",
      " 31  ELAT        4266 non-null   float64\n",
      " 32  NITE        4266 non-null   float64\n",
      " 33  APP         4266 non-null   float64\n",
      " 34  DROPACT     4266 non-null   float64\n",
      " 35  NACCAGEB    4266 non-null   float64\n",
      " 36  SEX         4266 non-null   float64\n",
      " 37  CDRGLOB     4266 non-null   float64\n",
      "dtypes: float64(38)\n",
      "memory usage: 1.3 MB\n"
     ]
    }
   ],
   "source": [
    "df_1 = df[df['CDRGLOB'] == 0]\n",
    "df_1.info()"
   ]
  },
  {
   "cell_type": "code",
   "execution_count": 19,
   "metadata": {},
   "outputs": [
    {
     "name": "stdout",
     "output_type": "stream",
     "text": [
      "<class 'pandas.core.frame.DataFrame'>\n",
      "Int64Index: 2666 entries, 1 to 8252\n",
      "Data columns (total 38 columns):\n",
      " #   Column      Non-Null Count  Dtype  \n",
      "---  ------      --------------  -----  \n",
      " 0   EDUC        2666 non-null   float64\n",
      " 1   NACCMOCA    2666 non-null   float64\n",
      " 2   MARISTAT_1  2666 non-null   float64\n",
      " 3   MARISTAT_3  2666 non-null   float64\n",
      " 4   MARISTAT_4  2666 non-null   float64\n",
      " 5   MARISTAT_5  2666 non-null   float64\n",
      " 6   MARISTAT_6  2666 non-null   float64\n",
      " 7   MARISTAT_2  2666 non-null   float64\n",
      " 8   NACCFAM     2666 non-null   float64\n",
      " 9   NACCGDS     2666 non-null   float64\n",
      " 10  NACCNE4S    2666 non-null   float64\n",
      " 11  NACCAPOE    2666 non-null   float64\n",
      " 12  INDEPEND_1  2666 non-null   float64\n",
      " 13  INDEPEND_3  2666 non-null   float64\n",
      " 14  INDEPEND_4  2666 non-null   float64\n",
      " 15  INDEPEND_2  2666 non-null   float64\n",
      " 16  RESIDENC_1  2666 non-null   float64\n",
      " 17  RESIDENC_3  2666 non-null   float64\n",
      " 18  RESIDENC_4  2666 non-null   float64\n",
      " 19  RESIDENC_2  2666 non-null   float64\n",
      " 20  ANYMEDS     2666 non-null   float64\n",
      " 21  NACCAMD     2666 non-null   float64\n",
      " 22  DEL         2666 non-null   float64\n",
      " 23  HALL        2666 non-null   float64\n",
      " 24  DEPD        2666 non-null   float64\n",
      " 25  ANX         2666 non-null   float64\n",
      " 26  APA         2666 non-null   float64\n",
      " 27  DISN        2666 non-null   float64\n",
      " 28  IRR         2666 non-null   float64\n",
      " 29  MOT         2666 non-null   float64\n",
      " 30  AGIT        2666 non-null   float64\n",
      " 31  ELAT        2666 non-null   float64\n",
      " 32  NITE        2666 non-null   float64\n",
      " 33  APP         2666 non-null   float64\n",
      " 34  DROPACT     2666 non-null   float64\n",
      " 35  NACCAGEB    2666 non-null   float64\n",
      " 36  SEX         2666 non-null   float64\n",
      " 37  CDRGLOB     2666 non-null   float64\n",
      "dtypes: float64(38)\n",
      "memory usage: 812.3 KB\n"
     ]
    }
   ],
   "source": [
    "df_2 = df[df['CDRGLOB'] == 0.25]\n",
    "df_2.info()"
   ]
  },
  {
   "cell_type": "code",
   "execution_count": 20,
   "metadata": {},
   "outputs": [
    {
     "name": "stdout",
     "output_type": "stream",
     "text": [
      "<class 'pandas.core.frame.DataFrame'>\n",
      "Int64Index: 928 entries, 0 to 8250\n",
      "Data columns (total 38 columns):\n",
      " #   Column      Non-Null Count  Dtype  \n",
      "---  ------      --------------  -----  \n",
      " 0   EDUC        928 non-null    float64\n",
      " 1   NACCMOCA    928 non-null    float64\n",
      " 2   MARISTAT_1  928 non-null    float64\n",
      " 3   MARISTAT_3  928 non-null    float64\n",
      " 4   MARISTAT_4  928 non-null    float64\n",
      " 5   MARISTAT_5  928 non-null    float64\n",
      " 6   MARISTAT_6  928 non-null    float64\n",
      " 7   MARISTAT_2  928 non-null    float64\n",
      " 8   NACCFAM     928 non-null    float64\n",
      " 9   NACCGDS     928 non-null    float64\n",
      " 10  NACCNE4S    928 non-null    float64\n",
      " 11  NACCAPOE    928 non-null    float64\n",
      " 12  INDEPEND_1  928 non-null    float64\n",
      " 13  INDEPEND_3  928 non-null    float64\n",
      " 14  INDEPEND_4  928 non-null    float64\n",
      " 15  INDEPEND_2  928 non-null    float64\n",
      " 16  RESIDENC_1  928 non-null    float64\n",
      " 17  RESIDENC_3  928 non-null    float64\n",
      " 18  RESIDENC_4  928 non-null    float64\n",
      " 19  RESIDENC_2  928 non-null    float64\n",
      " 20  ANYMEDS     928 non-null    float64\n",
      " 21  NACCAMD     928 non-null    float64\n",
      " 22  DEL         928 non-null    float64\n",
      " 23  HALL        928 non-null    float64\n",
      " 24  DEPD        928 non-null    float64\n",
      " 25  ANX         928 non-null    float64\n",
      " 26  APA         928 non-null    float64\n",
      " 27  DISN        928 non-null    float64\n",
      " 28  IRR         928 non-null    float64\n",
      " 29  MOT         928 non-null    float64\n",
      " 30  AGIT        928 non-null    float64\n",
      " 31  ELAT        928 non-null    float64\n",
      " 32  NITE        928 non-null    float64\n",
      " 33  APP         928 non-null    float64\n",
      " 34  DROPACT     928 non-null    float64\n",
      " 35  NACCAGEB    928 non-null    float64\n",
      " 36  SEX         928 non-null    float64\n",
      " 37  CDRGLOB     928 non-null    float64\n",
      "dtypes: float64(38)\n",
      "memory usage: 282.8 KB\n"
     ]
    }
   ],
   "source": [
    "df_3 = df[df['CDRGLOB'] == 0.5]\n",
    "df_3.info()"
   ]
  },
  {
   "cell_type": "code",
   "execution_count": 21,
   "metadata": {},
   "outputs": [
    {
     "name": "stdout",
     "output_type": "stream",
     "text": [
      "<class 'pandas.core.frame.DataFrame'>\n",
      "Int64Index: 394 entries, 27 to 8236\n",
      "Data columns (total 38 columns):\n",
      " #   Column      Non-Null Count  Dtype  \n",
      "---  ------      --------------  -----  \n",
      " 0   EDUC        394 non-null    float64\n",
      " 1   NACCMOCA    394 non-null    float64\n",
      " 2   MARISTAT_1  394 non-null    float64\n",
      " 3   MARISTAT_3  394 non-null    float64\n",
      " 4   MARISTAT_4  394 non-null    float64\n",
      " 5   MARISTAT_5  394 non-null    float64\n",
      " 6   MARISTAT_6  394 non-null    float64\n",
      " 7   MARISTAT_2  394 non-null    float64\n",
      " 8   NACCFAM     394 non-null    float64\n",
      " 9   NACCGDS     394 non-null    float64\n",
      " 10  NACCNE4S    394 non-null    float64\n",
      " 11  NACCAPOE    394 non-null    float64\n",
      " 12  INDEPEND_1  394 non-null    float64\n",
      " 13  INDEPEND_3  394 non-null    float64\n",
      " 14  INDEPEND_4  394 non-null    float64\n",
      " 15  INDEPEND_2  394 non-null    float64\n",
      " 16  RESIDENC_1  394 non-null    float64\n",
      " 17  RESIDENC_3  394 non-null    float64\n",
      " 18  RESIDENC_4  394 non-null    float64\n",
      " 19  RESIDENC_2  394 non-null    float64\n",
      " 20  ANYMEDS     394 non-null    float64\n",
      " 21  NACCAMD     394 non-null    float64\n",
      " 22  DEL         394 non-null    float64\n",
      " 23  HALL        394 non-null    float64\n",
      " 24  DEPD        394 non-null    float64\n",
      " 25  ANX         394 non-null    float64\n",
      " 26  APA         394 non-null    float64\n",
      " 27  DISN        394 non-null    float64\n",
      " 28  IRR         394 non-null    float64\n",
      " 29  MOT         394 non-null    float64\n",
      " 30  AGIT        394 non-null    float64\n",
      " 31  ELAT        394 non-null    float64\n",
      " 32  NITE        394 non-null    float64\n",
      " 33  APP         394 non-null    float64\n",
      " 34  DROPACT     394 non-null    float64\n",
      " 35  NACCAGEB    394 non-null    float64\n",
      " 36  SEX         394 non-null    float64\n",
      " 37  CDRGLOB     394 non-null    float64\n",
      "dtypes: float64(38)\n",
      "memory usage: 120.0 KB\n"
     ]
    }
   ],
   "source": [
    "df_4 = df[df['CDRGLOB'] == 1]\n",
    "df_4.info()"
   ]
  },
  {
   "cell_type": "code",
   "execution_count": 22,
   "metadata": {},
   "outputs": [],
   "source": [
    "from sklearn.model_selection import train_test_split\n",
    "\n",
    "label_encoder = preprocessing.LabelEncoder()\n",
    "new_df_1 = pd.DataFrame(df_1, columns=df_1.columns)\n",
    "X1 = new_df_1.drop(columns = ['CDRGLOB']).copy()\n",
    "y1 = new_df_1['CDRGLOB']\n",
    "X1_train, X1_rem, y1_train, y1_rem = train_test_split(X1,y1, train_size=0.7)\n",
    "X1_valid, X1_test, y1_valid, y1_test = train_test_split(X1_rem,y1_rem, test_size=0.5)\n",
    "\n",
    "new_df_2 = pd.DataFrame(df_2, columns=df_2.columns)\n",
    "X2 = new_df_2.drop(columns = ['CDRGLOB']).copy()\n",
    "y2 = new_df_2['CDRGLOB']\n",
    "X2_train, X2_rem, y2_train, y2_rem = train_test_split(X2,y2, train_size=0.7)\n",
    "X2_valid, X2_test, y2_valid, y2_test = train_test_split(X2_rem,y2_rem, test_size=0.5)\n",
    "\n",
    "new_df_3 = pd.DataFrame(df_3, columns=df_3.columns)\n",
    "X3 = new_df_3.drop(columns = ['CDRGLOB']).copy()\n",
    "y3 = new_df_3['CDRGLOB']\n",
    "X3_train, X3_rem, y3_train, y3_rem = train_test_split(X3,y3, train_size=0.7)\n",
    "X3_valid, X3_test, y3_valid, y3_test = train_test_split(X3_rem,y3_rem, test_size=0.5)\n",
    "\n",
    "new_df_4 = pd.DataFrame(df_4, columns=df_4.columns)\n",
    "X4 = new_df_4.drop(columns = ['CDRGLOB']).copy()\n",
    "y4 = new_df_4['CDRGLOB']\n",
    "X4_train, X4_rem, y4_train, y4_rem = train_test_split(X4,y4, train_size=0.7)\n",
    "X4_valid, X4_test, y4_valid, y4_test = train_test_split(X4_rem,y4_rem, test_size=0.5)\n",
    "\n",
    "X_train = np.concatenate([X1_train, X2_train, X3_train, X4_train], axis=0)\n",
    "X_valid = np.concatenate([X1_valid, X2_valid, X3_valid, X4_valid], axis=0)\n",
    "X_test = np.concatenate([X1_test, X2_test, X3_test, X4_test], axis=0)\n",
    "y_train = np.concatenate([y1_train, y2_train, y3_train, y4_train], axis=0)\n",
    "y_valid = np.concatenate([y1_valid, y2_valid, y3_valid, y4_valid], axis=0)\n",
    "y_test = np.concatenate([y1_test, y2_test, y3_test, y4_test], axis=0)\n",
    "\n",
    "y_train = label_encoder.fit_transform(y_train)\n",
    "y_valid = label_encoder.fit_transform(y_valid)\n",
    "y_test = label_encoder.fit_transform(y_test)"
   ]
  },
  {
   "cell_type": "code",
   "execution_count": 23,
   "metadata": {},
   "outputs": [
    {
     "name": "stdout",
     "output_type": "stream",
     "text": [
      "Epoch 1/100\n"
     ]
    },
    {
     "name": "stderr",
     "output_type": "stream",
     "text": [
      "2022-09-12 14:28:11.212289: I tensorflow/core/common_runtime/pluggable_device/pluggable_device_factory.cc:305] Could not identify NUMA node of platform GPU ID 0, defaulting to 0. Your kernel may not have been built with NUMA support.\n",
      "2022-09-12 14:28:11.212308: I tensorflow/core/common_runtime/pluggable_device/pluggable_device_factory.cc:271] Created TensorFlow device (/job:localhost/replica:0/task:0/device:GPU:0 with 0 MB memory) -> physical PluggableDevice (device: 0, name: METAL, pci bus id: <undefined>)\n",
      "2022-09-12 14:28:11.263894: W tensorflow/core/platform/profile_utils/cpu_utils.cc:128] Failed to get CPU frequency: 0 Hz\n"
     ]
    },
    {
     "name": "stdout",
     "output_type": "stream",
     "text": [
      " 1/91 [..............................] - ETA: 39s - loss: 1.3898 - accuracy: 0.3281"
     ]
    },
    {
     "name": "stderr",
     "output_type": "stream",
     "text": [
      "2022-09-12 14:28:11.516995: I tensorflow/core/grappler/optimizers/custom_graph_optimizer_registry.cc:113] Plugin optimizer for device_type GPU is enabled.\n"
     ]
    },
    {
     "name": "stdout",
     "output_type": "stream",
     "text": [
      "91/91 [==============================] - 2s 13ms/step - loss: 0.9931 - accuracy: 0.5542 - val_loss: 0.8104 - val_accuracy: 0.6325\n",
      "Epoch 2/100\n",
      " 9/91 [=>............................] - ETA: 0s - loss: 0.8305 - accuracy: 0.6267"
     ]
    },
    {
     "name": "stderr",
     "output_type": "stream",
     "text": [
      "2022-09-12 14:28:12.720122: I tensorflow/core/grappler/optimizers/custom_graph_optimizer_registry.cc:113] Plugin optimizer for device_type GPU is enabled.\n"
     ]
    },
    {
     "name": "stdout",
     "output_type": "stream",
     "text": [
      "91/91 [==============================] - 1s 8ms/step - loss: 0.7814 - accuracy: 0.6506 - val_loss: 0.7275 - val_accuracy: 0.6616\n",
      "Epoch 3/100\n",
      "91/91 [==============================] - 1s 8ms/step - loss: 0.7369 - accuracy: 0.6612 - val_loss: 0.7039 - val_accuracy: 0.6704\n",
      "Epoch 4/100\n",
      "91/91 [==============================] - 1s 8ms/step - loss: 0.7148 - accuracy: 0.6761 - val_loss: 0.6910 - val_accuracy: 0.6890\n",
      "Epoch 5/100\n",
      "91/91 [==============================] - 1s 8ms/step - loss: 0.7011 - accuracy: 0.6813 - val_loss: 0.6739 - val_accuracy: 0.6826\n",
      "Epoch 6/100\n",
      "91/91 [==============================] - 1s 9ms/step - loss: 0.6913 - accuracy: 0.6861 - val_loss: 0.6664 - val_accuracy: 0.6858\n",
      "Epoch 7/100\n",
      "91/91 [==============================] - 1s 8ms/step - loss: 0.6812 - accuracy: 0.6941 - val_loss: 0.6561 - val_accuracy: 0.6947\n",
      "Epoch 8/100\n",
      "91/91 [==============================] - 1s 8ms/step - loss: 0.6705 - accuracy: 0.6975 - val_loss: 0.6498 - val_accuracy: 0.6947\n",
      "Epoch 9/100\n",
      "91/91 [==============================] - 1s 8ms/step - loss: 0.6678 - accuracy: 0.6979 - val_loss: 0.6431 - val_accuracy: 0.7011\n",
      "Epoch 10/100\n",
      "91/91 [==============================] - 1s 8ms/step - loss: 0.6532 - accuracy: 0.7098 - val_loss: 0.6340 - val_accuracy: 0.7108\n",
      "Epoch 11/100\n",
      "91/91 [==============================] - 1s 8ms/step - loss: 0.6487 - accuracy: 0.7064 - val_loss: 0.6382 - val_accuracy: 0.7003\n",
      "Epoch 12/100\n",
      "91/91 [==============================] - 1s 8ms/step - loss: 0.6496 - accuracy: 0.7105 - val_loss: 0.6264 - val_accuracy: 0.7229\n",
      "Epoch 13/100\n",
      "91/91 [==============================] - 1s 8ms/step - loss: 0.6393 - accuracy: 0.7202 - val_loss: 0.6277 - val_accuracy: 0.7011\n",
      "Epoch 14/100\n",
      "91/91 [==============================] - 1s 8ms/step - loss: 0.6357 - accuracy: 0.7197 - val_loss: 0.6268 - val_accuracy: 0.7076\n",
      "Epoch 15/100\n",
      "91/91 [==============================] - 1s 8ms/step - loss: 0.6280 - accuracy: 0.7197 - val_loss: 0.6210 - val_accuracy: 0.7181\n",
      "Epoch 16/100\n",
      "91/91 [==============================] - 1s 8ms/step - loss: 0.6268 - accuracy: 0.7136 - val_loss: 0.6185 - val_accuracy: 0.7229\n",
      "Epoch 17/100\n",
      "91/91 [==============================] - 1s 8ms/step - loss: 0.6201 - accuracy: 0.7263 - val_loss: 0.6220 - val_accuracy: 0.7124\n",
      "Epoch 18/100\n",
      "91/91 [==============================] - 1s 8ms/step - loss: 0.6240 - accuracy: 0.7207 - val_loss: 0.6166 - val_accuracy: 0.7165\n",
      "Epoch 19/100\n",
      "91/91 [==============================] - 1s 8ms/step - loss: 0.6191 - accuracy: 0.7209 - val_loss: 0.6171 - val_accuracy: 0.7181\n",
      "Epoch 20/100\n",
      "91/91 [==============================] - 1s 8ms/step - loss: 0.6200 - accuracy: 0.7235 - val_loss: 0.6159 - val_accuracy: 0.7246\n",
      "Epoch 21/100\n",
      "91/91 [==============================] - 1s 8ms/step - loss: 0.6129 - accuracy: 0.7247 - val_loss: 0.6136 - val_accuracy: 0.7237\n",
      "Epoch 22/100\n",
      "91/91 [==============================] - 1s 8ms/step - loss: 0.6080 - accuracy: 0.7284 - val_loss: 0.6196 - val_accuracy: 0.7246\n",
      "Epoch 23/100\n",
      "91/91 [==============================] - 1s 8ms/step - loss: 0.6061 - accuracy: 0.7303 - val_loss: 0.6159 - val_accuracy: 0.7189\n",
      "Epoch 24/100\n",
      "91/91 [==============================] - 1s 8ms/step - loss: 0.6084 - accuracy: 0.7287 - val_loss: 0.6164 - val_accuracy: 0.7237\n",
      "Epoch 25/100\n",
      "91/91 [==============================] - 1s 8ms/step - loss: 0.6059 - accuracy: 0.7367 - val_loss: 0.6222 - val_accuracy: 0.7237\n",
      "Epoch 26/100\n",
      "91/91 [==============================] - 1s 8ms/step - loss: 0.6033 - accuracy: 0.7332 - val_loss: 0.6269 - val_accuracy: 0.7100\n",
      "Epoch 27/100\n",
      "91/91 [==============================] - 1s 8ms/step - loss: 0.5990 - accuracy: 0.7374 - val_loss: 0.6147 - val_accuracy: 0.7286\n",
      "Epoch 27: early stopping\n"
     ]
    }
   ],
   "source": [
    "from gc import callbacks\n",
    "from tabnanny import verbose\n",
    "\n",
    "model = tf.keras.models.Sequential()\n",
    "\n",
    "model.add(tf.keras.layers.Dense(units=64, activation='relu'))\n",
    "model.add(tf.keras.layers.Dropout(0.2))\n",
    "model.add(tf.keras.layers.Dense(units=16, activation='relu'))\n",
    "model.add(tf.keras.layers.Dropout(0.1))\n",
    "model.add(tf.keras.layers.Dense(units=4, activation='softmax'))\n",
    "\n",
    "lr_schedule = tf.keras.optimizers.schedules.ExponentialDecay(\n",
    "    initial_learning_rate=0.001,\n",
    "    decay_steps=10000,\n",
    "    decay_rate=0.9)\n",
    "optimizer = tf.keras.optimizers.RMSprop(learning_rate=lr_schedule)\n",
    "\n",
    "model.compile(optimizer=optimizer, loss=\"sparse_categorical_crossentropy\", metrics=['accuracy'])\n",
    "history = model.fit(x = X_train, y = y_train, epochs=100, shuffle=True, validation_data=(X_valid,y_valid), batch_size=64, callbacks= [tf.keras.callbacks.EarlyStopping(monitor = 'val_loss', patience=6, mode = 'min', verbose = True)])"
   ]
  },
  {
   "cell_type": "code",
   "execution_count": 24,
   "metadata": {},
   "outputs": [
    {
     "name": "stdout",
     "output_type": "stream",
     "text": [
      "39/39 [==============================] - 0s 5ms/step - loss: 0.6488 - accuracy: 0.7129\n",
      "39/39 [==============================] - 0s 2ms/step\n"
     ]
    },
    {
     "name": "stderr",
     "output_type": "stream",
     "text": [
      "2022-09-12 14:28:31.522832: I tensorflow/core/grappler/optimizers/custom_graph_optimizer_registry.cc:113] Plugin optimizer for device_type GPU is enabled.\n"
     ]
    }
   ],
   "source": [
    "predictions = model.evaluate(X_test, y_test)\n",
    "y_pred = model.predict(X_test).argmax(axis=1)"
   ]
  },
  {
   "cell_type": "code",
   "execution_count": 25,
   "metadata": {},
   "outputs": [
    {
     "name": "stdout",
     "output_type": "stream",
     "text": [
      "=== Confusion Matrix ===\n",
      "[[595  42   3   0]\n",
      " [179 183  34   4]\n",
      " [  4  46  83   7]\n",
      " [  0   3  34  23]]\n",
      "\n",
      "\n",
      "=== Classification Report ===\n",
      "              precision    recall  f1-score   support\n",
      "\n",
      "           0       0.76      0.93      0.84       640\n",
      "           1       0.67      0.46      0.54       400\n",
      "           2       0.54      0.59      0.56       140\n",
      "           3       0.68      0.38      0.49        60\n",
      "\n",
      "    accuracy                           0.71      1240\n",
      "   macro avg       0.66      0.59      0.61      1240\n",
      "weighted avg       0.70      0.71      0.70      1240\n",
      "\n",
      "\n",
      "\n"
     ]
    }
   ],
   "source": [
    "print(\"=== Confusion Matrix ===\")\n",
    "print(confusion_matrix(y_test, y_pred))\n",
    "print('\\n')\n",
    "print(\"=== Classification Report ===\")\n",
    "print(classification_report(y_test, y_pred))\n",
    "print('\\n')"
   ]
  },
  {
   "cell_type": "code",
   "execution_count": 26,
   "metadata": {},
   "outputs": [],
   "source": [
    "# from sklearn import metrics\n",
    "\n",
    "# conf_matrix = metrics.confusion_matrix(y_true=y_test, y_pred=y_pred)\n",
    "# fig, ax = plt.subplots(figsize=(5, 5))\n",
    "# ax.matshow(conf_matrix, cmap=plt.cm.Oranges, alpha=0.3)\n",
    "# for i in range(conf_matrix.shape[0]):\n",
    "#     for j in range(conf_matrix.shape[1]):\n",
    "#         ax.text(x=j, y=i,s=conf_matrix[i, j], va='center', ha='center', size='xx-large')\n",
    " \n",
    "# plt.xlabel('Predictions', fontsize=18)\n",
    "# plt.ylabel('Actuals', fontsize=18)\n",
    "# plt.title('Confusion Matrix', fontsize=18)\n",
    "# plt.show()"
   ]
  },
  {
   "cell_type": "code",
   "execution_count": 27,
   "metadata": {},
   "outputs": [
    {
     "name": "stdout",
     "output_type": "stream",
     "text": [
      "=== Confusion Matrix ===\n",
      "[[468 168   3   1]\n",
      " [166 183  44   7]\n",
      " [  7  50  63  20]\n",
      " [  0   9  32  19]]\n",
      "\n",
      "\n",
      "=== Classification Report ===\n",
      "              precision    recall  f1-score   support\n",
      "\n",
      "           0       0.73      0.73      0.73       640\n",
      "           1       0.45      0.46      0.45       400\n",
      "           2       0.44      0.45      0.45       140\n",
      "           3       0.40      0.32      0.36        60\n",
      "\n",
      "    accuracy                           0.59      1240\n",
      "   macro avg       0.51      0.49      0.50      1240\n",
      "weighted avg       0.59      0.59      0.59      1240\n",
      "\n",
      "\n",
      "\n"
     ]
    }
   ],
   "source": [
    "from sklearn.tree import DecisionTreeClassifier\n",
    "\n",
    "X_train_new = np.concatenate([X_train, X_valid], axis=0)\n",
    "y_train_new = np.concatenate([y_train, y_valid], axis=0)\n",
    "dtc = DecisionTreeClassifier()\n",
    "dtc.fit(X_train_new, y_train_new)\n",
    "y_pred = dtc.predict(X_test)\n",
    "\n",
    "print(\"=== Confusion Matrix ===\")\n",
    "print(confusion_matrix(y_test, y_pred))\n",
    "print('\\n')\n",
    "print(\"=== Classification Report ===\")\n",
    "print(classification_report(y_test, y_pred))\n",
    "print('\\n')"
   ]
  },
  {
   "cell_type": "code",
   "execution_count": 28,
   "metadata": {},
   "outputs": [
    {
     "name": "stdout",
     "output_type": "stream",
     "text": [
      "=== Confusion Matrix ===\n",
      "[[561  76   3   0]\n",
      " [144 217  38   1]\n",
      " [  4  59  66  11]\n",
      " [  0   5  37  18]]\n",
      "\n",
      "\n",
      "=== Classification Report ===\n",
      "              precision    recall  f1-score   support\n",
      "\n",
      "           0       0.79      0.88      0.83       640\n",
      "           1       0.61      0.54      0.57       400\n",
      "           2       0.46      0.47      0.46       140\n",
      "           3       0.60      0.30      0.40        60\n",
      "\n",
      "    accuracy                           0.70      1240\n",
      "   macro avg       0.61      0.55      0.57      1240\n",
      "weighted avg       0.69      0.70      0.69      1240\n",
      "\n",
      "\n",
      "\n"
     ]
    }
   ],
   "source": [
    "from sklearn.ensemble import RandomForestClassifier\n",
    "\n",
    "rfc = RandomForestClassifier()\n",
    "rfc.fit(X_train_new, y_train_new)\n",
    "y_pred = rfc.predict(X_test)\n",
    "\n",
    "print(\"=== Confusion Matrix ===\")\n",
    "print(confusion_matrix(y_test, y_pred))\n",
    "print('\\n')\n",
    "print(\"=== Classification Report ===\")\n",
    "print(classification_report(y_test, y_pred))\n",
    "print('\\n')"
   ]
  },
  {
   "cell_type": "code",
   "execution_count": 29,
   "metadata": {},
   "outputs": [
    {
     "name": "stdout",
     "output_type": "stream",
     "text": [
      "=== Confusion Matrix ===\n",
      "[[587  50   3   0]\n",
      " [181 187  31   1]\n",
      " [  4  63  69   4]\n",
      " [  0   4  42  14]]\n",
      "\n",
      "\n",
      "=== Classification Report ===\n",
      "              precision    recall  f1-score   support\n",
      "\n",
      "           0       0.76      0.92      0.83       640\n",
      "           1       0.62      0.47      0.53       400\n",
      "           2       0.48      0.49      0.48       140\n",
      "           3       0.74      0.23      0.35        60\n",
      "\n",
      "    accuracy                           0.69      1240\n",
      "   macro avg       0.65      0.53      0.55      1240\n",
      "weighted avg       0.68      0.69      0.67      1240\n",
      "\n",
      "\n",
      "\n"
     ]
    }
   ],
   "source": [
    "from sklearn.svm import SVC\n",
    "svc = SVC()\n",
    "svc.fit(X_train_new, y_train_new)\n",
    "y_pred = svc.predict(X_test)\n",
    "\n",
    "print(\"=== Confusion Matrix ===\")\n",
    "print(confusion_matrix(y_test, y_pred))\n",
    "print('\\n')\n",
    "print(\"=== Classification Report ===\")\n",
    "print(classification_report(y_test, y_pred))\n",
    "print('\\n')"
   ]
  }
 ],
 "metadata": {
  "kernelspec": {
   "display_name": "Python 3.10.5 64-bit",
   "language": "python",
   "name": "python3"
  },
  "language_info": {
   "codemirror_mode": {
    "name": "ipython",
    "version": 3
   },
   "file_extension": ".py",
   "mimetype": "text/x-python",
   "name": "python",
   "nbconvert_exporter": "python",
   "pygments_lexer": "ipython3",
   "version": "3.10.5"
  },
  "orig_nbformat": 4,
  "vscode": {
   "interpreter": {
    "hash": "aee8b7b246df8f9039afb4144a1f6fd8d2ca17a180786b69acc140d282b71a49"
   }
  }
 },
 "nbformat": 4,
 "nbformat_minor": 2
}
